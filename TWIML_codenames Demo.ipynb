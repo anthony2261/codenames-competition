{
 "cells": [
  {
   "cell_type": "markdown",
   "metadata": {},
   "source": [
    "##### This jupyter notebook serves as a tutorial for the code used to run the TWIMLfest 2020 Codenames competition. Please first read through the [README](https://github.com/dhilgart/TWIML_codenames/blob/master/README.md) for an overview of the competition. The README also includes links to the rules of the official board game Codenames (by Vlaada Chvátil)  and a video that shows how to play."
   ]
  },
  {
   "cell_type": "code",
   "execution_count": null,
   "metadata": {},
   "outputs": [],
   "source": [
    "import TWIML_codenames\n",
    "import numpy as np\n",
    "import random\n",
    "from datetime import datetime"
   ]
  },
  {
   "cell_type": "markdown",
   "metadata": {},
   "source": [
    "# How games get played"
   ]
  },
  {
   "cell_type": "markdown",
   "metadata": {},
   "source": [
    "In order for a game to be created, it needs a few objects provided on instantiation. First, let's "
   ]
  },
  {
   "cell_type": "markdown",
   "metadata": {},
   "source": [
    "### Create a TWIML_codenames.Gameboard object:"
   ]
  },
  {
   "cell_type": "code",
   "execution_count": null,
   "metadata": {},
   "outputs": [],
   "source": [
    "# fix the seed for consistency\n",
    "np.random.seed(42)"
   ]
  },
  {
   "cell_type": "code",
   "execution_count": null,
   "metadata": {},
   "outputs": [],
   "source": [
    "#In order to create a gameboard, you must provide it with a list of words\n",
    "wordlist = [line.strip() for line in open('wordlist.txt', 'r').readlines()][:25]"
   ]
  },
  {
   "cell_type": "code",
   "execution_count": null,
   "metadata": {},
   "outputs": [],
   "source": [
    "#create a gameboard:\n",
    "gameboard = TWIML_codenames.Gameboard(wordlist)"
   ]
  },
  {
   "cell_type": "markdown",
   "metadata": {},
   "source": [
    "A gameboard has 3 5x5 numpy arrays that store information about the gameboard. Let's visualize the words on the board:"
   ]
  },
  {
   "cell_type": "code",
   "execution_count": null,
   "metadata": {},
   "outputs": [],
   "source": [
    "gameboard.boardwords"
   ]
  },
  {
   "cell_type": "markdown",
   "metadata": {},
   "source": [
    "Now let's visualize the key, which tells the spymasters which words belong to which team. The teams are as follows: \n",
    "- 1 = team 1\n",
    "- 2 = team 2\n",
    "- 0 = neutral\n",
    "- -1 = assassin\n",
    "\n",
    "Note: we do not use blue team and red team. Whichever team goes first is team 1 and has 1 extra word they need to guess."
   ]
  },
  {
   "cell_type": "code",
   "execution_count": null,
   "metadata": {},
   "outputs": [],
   "source": [
    "gameboard.boardkey"
   ]
  },
  {
   "cell_type": "markdown",
   "metadata": {},
   "source": [
    "Lastly, there is an array that stores a record of which words have been guessed so far in the game. At the beginning of the game, it is all np.NaN:"
   ]
  },
  {
   "cell_type": "code",
   "execution_count": null,
   "metadata": {},
   "outputs": [],
   "source": [
    "gameboard.boardmarkers"
   ]
  },
  {
   "cell_type": "markdown",
   "metadata": {},
   "source": [
    "The next thing the TWIML_codenames.Game needs is players! It requires a list of TWIML_codenames.Player objects on team1 and on team2. So, let's"
   ]
  },
  {
   "cell_type": "markdown",
   "metadata": {},
   "source": [
    "### Create TWIML_codenames.Player objects:"
   ]
  },
  {
   "cell_type": "markdown",
   "metadata": {},
   "source": [
    "We will need 4 Player objects: 2 for team 1 and 2 for team 2. Let's put them in a list called playerlist. Each Player object will need a player_id. For the competition, your player_ID has been emailed to you. For this demo, let's use player_IDs 1001, 1002, 1003, and 1004."
   ]
  },
  {
   "cell_type": "code",
   "execution_count": null,
   "metadata": {},
   "outputs": [],
   "source": [
    "playerlist=[]\n",
    "for i in range(4):\n",
    "    playerlist.append(TWIML_codenames.Player(1001+i))\n",
    "    print(playerlist[i])"
   ]
  },
  {
   "cell_type": "markdown",
   "metadata": {},
   "source": [
    "Let's investigate what a TWIML_codenames.Player object contains. It stores:\n",
    "- the player_id\n",
    "- the Elo ratings of the player (These will be used to determine the winners. See the README for details)\n",
    "- the Win-Loss records of the player"
   ]
  },
  {
   "cell_type": "code",
   "execution_count": null,
   "metadata": {},
   "outputs": [],
   "source": [
    "playerlist[0].player_id"
   ]
  },
  {
   "cell_type": "code",
   "execution_count": null,
   "metadata": {},
   "outputs": [],
   "source": [
    "playerlist[0].Elo"
   ]
  },
  {
   "cell_type": "code",
   "execution_count": null,
   "metadata": {},
   "outputs": [],
   "source": [
    "playerlist[0].record"
   ]
  },
  {
   "cell_type": "markdown",
   "metadata": {},
   "source": [
    "Note that the Elo ratings and records have been pre-populated on instantiation. Both Elo and W-L record are tracked separately for the Spymaster and Operative roles."
   ]
  },
  {
   "cell_type": "markdown",
   "metadata": {},
   "source": [
    "We have everything we need to create a game! Let's do it!"
   ]
  },
  {
   "cell_type": "markdown",
   "metadata": {},
   "source": [
    "### Create a TWIML_codenames.Game object:"
   ]
  },
  {
   "cell_type": "code",
   "execution_count": null,
   "metadata": {},
   "outputs": [],
   "source": [
    "# first split the players into teams:\n",
    "team1 = playerlist[:2]\n",
    "team2 = playerlist[2:]"
   ]
  },
  {
   "cell_type": "code",
   "execution_count": null,
   "metadata": {},
   "outputs": [],
   "source": [
    "# then create the game:\n",
    "my_game = TWIML_codenames.Game(gameboard = gameboard, team1 = team1, team2 = team2)"
   ]
  },
  {
   "cell_type": "markdown",
   "metadata": {},
   "source": [
    "The game is ready! \n",
    "\n",
    "When a game is instantiated, it sets all of its internal variables to prepare for the Team 1 Spymaster to give the first clue. Let's take a look:"
   ]
  },
  {
   "cell_type": "code",
   "execution_count": null,
   "metadata": {},
   "outputs": [],
   "source": [
    "my_game.curr_team"
   ]
  },
  {
   "cell_type": "code",
   "execution_count": null,
   "metadata": {},
   "outputs": [],
   "source": [
    "my_game.waiting_on"
   ]
  },
  {
   "cell_type": "markdown",
   "metadata": {},
   "source": [
    "Let's not keep the game waiting too long! We need to"
   ]
  },
  {
   "cell_type": "markdown",
   "metadata": {},
   "source": [
    "### Feed the game a clue:"
   ]
  },
  {
   "cell_type": "markdown",
   "metadata": {},
   "source": [
    "In order to do so, let's load my_model.py"
   ]
  },
  {
   "cell_type": "code",
   "execution_count": null,
   "metadata": {},
   "outputs": [],
   "source": [
    "import my_model as model"
   ]
  },
  {
   "cell_type": "markdown",
   "metadata": {},
   "source": [
    "Now all we need to do to figure out what clue to feed the game is call model.generate_clue:"
   ]
  },
  {
   "cell_type": "code",
   "execution_count": null,
   "metadata": {},
   "outputs": [],
   "source": [
    "# when interacting with a game on the server, client_run.py first calls game.solicit_clue_inputs(): \n",
    "pull_team_num, pull_gameboard = my_game.solicit_clue_inputs()\n",
    "# you can skip this step when running locally by just using my_game.curr_team and my_game.gameboard as in the next cell:"
   ]
  },
  {
   "cell_type": "code",
   "execution_count": null,
   "metadata": {
    "tags": []
   },
   "outputs": [],
   "source": [
    "%%time\n",
    "clue_word, clue_count = model.generate_clue(game_id=1, # note: game_id is a required input of model.generate_clue so that you can keep track of which game is asking for a clue. Each game on the server will have a unique, 6-digit integer for the game_id. For the purposes of this demo, we will just give it a game_id of 1.\n",
    "                                            team_num=my_game.curr_team, \n",
    "                                            gameboard=my_game.gameboard)"
   ]
  },
  {
   "cell_type": "markdown",
   "metadata": {},
   "source": [
    "Let's take a look at what clue_word and clue_count it generated:"
   ]
  },
  {
   "cell_type": "code",
   "execution_count": null,
   "metadata": {},
   "outputs": [],
   "source": [
    "print(f'My bot says: \"{clue_word} for {clue_count}!\"')"
   ]
  },
  {
   "cell_type": "markdown",
   "metadata": {},
   "source": [
    "Can you tell what word(s) it wants the operative to guess with that clue? Let's look at the board:"
   ]
  },
  {
   "cell_type": "code",
   "execution_count": null,
   "metadata": {},
   "outputs": [],
   "source": [
    "print(my_game.gameboard.boardwords)\n",
    "print(my_game.gameboard.boardkey)"
   ]
  },
  {
   "cell_type": "markdown",
   "metadata": {},
   "source": [
    "Ok, let's feed the clue back to the game:"
   ]
  },
  {
   "cell_type": "code",
   "execution_count": null,
   "metadata": {},
   "outputs": [],
   "source": [
    "my_game.clue_given(clue_word, clue_count)"
   ]
  },
  {
   "cell_type": "markdown",
   "metadata": {},
   "source": [
    "Let's check the status:"
   ]
  },
  {
   "cell_type": "code",
   "execution_count": null,
   "metadata": {},
   "outputs": [],
   "source": [
    "my_game.curr_team"
   ]
  },
  {
   "cell_type": "code",
   "execution_count": null,
   "metadata": {},
   "outputs": [],
   "source": [
    "my_game.waiting_on"
   ]
  },
  {
   "cell_type": "markdown",
   "metadata": {},
   "source": [
    "The game is ready for Team 1's Operative (i.e. guesser) to respond. \n",
    "As above, we could pull the inputs the guesser will need using my_game.solicit_guesses_inputs(), but we will skip that for this demo. Time to"
   ]
  },
  {
   "cell_type": "markdown",
   "metadata": {},
   "source": [
    "### Feed the game a list of guesses:"
   ]
  },
  {
   "cell_type": "markdown",
   "metadata": {},
   "source": [
    "First, ask the model generate the list:"
   ]
  },
  {
   "cell_type": "code",
   "execution_count": null,
   "metadata": {},
   "outputs": [],
   "source": [
    "guesses = model.generate_guesses(game_id = 1, # see comment on game_id when we generated the clues \n",
    "                                 team_num = my_game.curr_team, \n",
    "                                 clue_word = my_game.curr_clue_word, \n",
    "                                 clue_count = my_game.curr_clue_count, \n",
    "                                 unguessed_words = my_game.gameboard.unguessed_words(), # gameboard.unguessed_words() returns a 1-D list of all the words on the board that have not yet been guessed\n",
    "                                 boardwords = my_game.gameboard.boardwords, \n",
    "                                 boardmarkers = my_game.gameboard.boardmarkers)\n",
    "# note that the gameboard is not passed to the guesser function in whole. If it were, the guesser would have access to the key!"
   ]
  },
  {
   "cell_type": "code",
   "execution_count": null,
   "metadata": {},
   "outputs": [],
   "source": [
    "len(my_game.gameboard.unguessed_words())"
   ]
  },
  {
   "cell_type": "markdown",
   "metadata": {},
   "source": [
    "Let's take a look at what the bot generated. Does it match with what you thought above?"
   ]
  },
  {
   "cell_type": "code",
   "execution_count": null,
   "metadata": {},
   "outputs": [],
   "source": [
    "guesses"
   ]
  },
  {
   "cell_type": "markdown",
   "metadata": {},
   "source": [
    "Send it back to the game:"
   ]
  },
  {
   "cell_type": "code",
   "execution_count": null,
   "metadata": {},
   "outputs": [],
   "source": [
    "my_game.guesses_given(guesses)"
   ]
  },
  {
   "cell_type": "markdown",
   "metadata": {},
   "source": [
    "Let's see what happened. Check the boardmarkers and the boardwords. Did the bot get it right?"
   ]
  },
  {
   "cell_type": "code",
   "execution_count": null,
   "metadata": {},
   "outputs": [],
   "source": [
    "print(my_game.gameboard.boardmarkers)\n",
    "print(my_game.gameboard.boardwords)"
   ]
  },
  {
   "cell_type": "markdown",
   "metadata": {},
   "source": [
    "Let's check the status again:"
   ]
  },
  {
   "cell_type": "code",
   "execution_count": null,
   "metadata": {},
   "outputs": [],
   "source": [
    "my_game.curr_team"
   ]
  },
  {
   "cell_type": "code",
   "execution_count": null,
   "metadata": {},
   "outputs": [],
   "source": [
    "my_game.waiting_on"
   ]
  },
  {
   "cell_type": "markdown",
   "metadata": {},
   "source": [
    "Team 1's turn is done! The game is ready for Team 2's Spymaster to give a clue!\n",
    "\n",
    "We don't need to go through each guess one at a time. Let's automate the rest of the game:"
   ]
  },
  {
   "cell_type": "markdown",
   "metadata": {},
   "source": [
    "### Simulate the rest of the game:"
   ]
  },
  {
   "cell_type": "code",
   "execution_count": null,
   "metadata": {
    "scrolled": true
   },
   "outputs": [],
   "source": [
    "start_time=datetime.now()\n",
    "while my_game.game_completed == False:\n",
    "    # here we ignore that team 1 and team 2 will have different models and assume that regardless \n",
    "    # of which team's turn it is, we use the same model for the spymaster and the operative\n",
    "    \n",
    "    if my_game.waiting_on == 'spymaster':\n",
    "        clue_start_time=datetime.now()\n",
    "        clue_word, clue_count = model.generate_clue(game_id=1,\n",
    "                                                    team_num=my_game.curr_team, \n",
    "                                                    gameboard=my_game.gameboard)\n",
    "        print(f'Clue generated. Duration = {datetime.now()-clue_start_time}. Total elapsed time = {datetime.now()-start_time}')\n",
    "        print(f'My bot says: \"{clue_word} for {clue_count}!\"')\n",
    "        my_game.clue_given(clue_word, clue_count)\n",
    "    else:\n",
    "        guess_start_time=datetime.now()\n",
    "        guesses = model.generate_guesses(game_id = 1,\n",
    "                                         team_num = my_game.curr_team, \n",
    "                                         clue_word = my_game.curr_clue_word, \n",
    "                                         clue_count = my_game.curr_clue_count, \n",
    "                                         unguessed_words = my_game.gameboard.unguessed_words(),\n",
    "                                         boardwords = my_game.gameboard.boardwords, \n",
    "                                         boardmarkers = my_game.gameboard.boardmarkers)\n",
    "        print(f'Guesses generated. Duration = {datetime.now()-guess_start_time}. Total elapsed time = {datetime.now()-start_time}')\n",
    "        print(f'guesses = {guesses}')\n",
    "        my_game.guesses_given(guesses)"
   ]
  },
  {
   "cell_type": "markdown",
   "metadata": {},
   "source": [
    "There you have it! A completed game! But that's not all. There's something else we haven't talked about that you might be interested in: the game log!"
   ]
  },
  {
   "cell_type": "markdown",
   "metadata": {},
   "source": [
    "# The game log"
   ]
  },
  {
   "cell_type": "markdown",
   "metadata": {},
   "source": [
    "A TWIML_codenames.Game object is always created with a logger object. If no logger is supplied at initialization, a TWIML_codenames.LocalLogger object will be created for the game. LocalLogger stores the gamelog in memory. For games played on the server, a TWIML_codenames_API_server.MongoLogger is supplied at Game initialization, so the log is stored to a MongoDB. The server game logs can be retrieved using the @app.get(\"http<span>://twiml-codenames.herokuapp</span>.com/{game_id}/log/\") API endpoint. Either way, the logger stores the same information as a multi-nested dict."
   ]
  },
  {
   "cell_type": "markdown",
   "metadata": {},
   "source": [
    "Let's take a look at the log for this game:"
   ]
  },
  {
   "cell_type": "code",
   "execution_count": null,
   "metadata": {},
   "outputs": [],
   "source": [
    "my_game.logger.game_log # this command only works for LocalLogger, not for MongoLogger"
   ]
  },
  {
   "cell_type": "markdown",
   "metadata": {},
   "source": [
    "Lots of information there! Let's review.\n",
    "These are the keys in the top level of the log dict:\n",
    "- in_progress : True or False\n",
    "- events : this is where all of the events of the game are recorded (more detail below)\n",
    "- boardwords : the array from the gameboard\n",
    "- boardkey : the array from the gameboard\n",
    "- teams : the player_id for each player on each team\n",
    "- winning team : the information about each winner's Elo change after the game\n",
    "- losing team : the information about each loser's Elo change after the game\n",
    "- start time : in utc\n",
    "- end time : in utc\n",
    "- boardmarkers : the final status of the board revealing which words were guessed\n",
    "\n",
    "Note: not all of this information is present until the game is completed. However, you can still pull a log in the middle of a game. You can even pull a log from the MongoDB in the middle of the game using the API endpoint mentioned above. Also, note that when pulling a log from the server, some of this information is scrubbed from the log: information that you would not have had access to based on your role.\n",
    "\n",
    "So what's in 'events'?\n",
    "\n",
    "Events is a list of dicts. Each event is a dict. New events are appended to the end of the list, so the list is in chronological order. Here is what gets recorded as an event:\n",
    "- clue_given - records the word, the count, and whether the clue was a legal clue. If it wasn't, includes an explanation why not.\n",
    "- guess made - records the word guessed and the team that word belonged to. Note this is not the same as the guesses list. Guesses are made one at a time and each is recorded individually\n",
    "- guess skipped: guess not in unguessed_words - records the word that was attempted but did not exist\n",
    "- end guessing - can be for a number of reasons which are all recorded: illegal clue given, zero guesses provided, incorrect guess made, no more guesses provided, or num guesses provided exceeded clue_count+1\n",
    "- game over - records the reason why the game ended\n",
    "\n",
    "Use this information as you wish!"
   ]
  }
 ],
 "metadata": {
  "kernelspec": {
   "display_name": "Python 3.7.9 64-bit ('codenames_env': conda)",
   "language": "python",
   "name": "python37964bitcodenamesenvcondae669634ed0994149bbbb1622e4072770"
  },
  "language_info": {
   "codemirror_mode": {
    "name": "ipython",
    "version": 3
   },
   "file_extension": ".py",
   "mimetype": "text/x-python",
   "name": "python",
   "nbconvert_exporter": "python",
   "pygments_lexer": "ipython3",
   "version": "3.7.9-final"
  }
 },
 "nbformat": 4,
 "nbformat_minor": 4
}