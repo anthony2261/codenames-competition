{
 "metadata": {
  "language_info": {
   "codemirror_mode": {
    "name": "ipython",
    "version": 3
   },
   "file_extension": ".py",
   "mimetype": "text/x-python",
   "name": "python",
   "nbconvert_exporter": "python",
   "pygments_lexer": "ipython3",
   "version": "3.7.9-final"
  },
  "orig_nbformat": 2,
  "kernelspec": {
   "name": "python37964bitcodenamesenvcondae669634ed0994149bbbb1622e4072770",
   "display_name": "Python 3.7.9 64-bit ('codenames_env': conda)",
   "language": "python"
  }
 },
 "nbformat": 4,
 "nbformat_minor": 2,
 "cells": [
  {
   "cell_type": "code",
   "execution_count": 6,
   "metadata": {},
   "outputs": [],
   "source": [
    "import TWIML_codenames\n",
    "import numpy as np\n",
    "import random\n",
    "from datetime import datetime\n",
    "\n",
    "np.random.seed(42)\n",
    "wordlist = [line.strip() for line in open('wordlist.txt', 'r').readlines()][:25]\n",
    "\n",
    "playerlist=[]\n",
    "for i in range(4):\n",
    "    playerlist.append(TWIML_codenames.Player(1001+i))\n",
    "\n",
    "# first split the players into teams:\n",
    "team1 = playerlist[:2]\n",
    "team2 = playerlist[2:]"
   ]
  },
  {
   "cell_type": "code",
   "execution_count": 7,
   "metadata": {},
   "outputs": [
    {
     "output_type": "stream",
     "name": "stdout",
     "text": [
      "[['body' 'kilogram' 'sick' 'team' 'hook']\n ['clean' 'barber' 'cost' 'Washington' 'mirror']\n ['torch' 'crash' 'brand' 'line' 'elm']\n ['cemetery' 'billboard' 'wood' 'English' 'minute']\n ['Venus' 'toothbrush' 'seal' 'whisk' 'shovel']]\n[[ 2  2  1  1  0]\n [ 1  0  1  0  0]\n [ 2  1  1  1  1]\n [ 1  0  0  2  2]\n [ 2  2 -1  0  2]]\n"
     ]
    }
   ],
   "source": [
    "# gameboard = TWIML_codenames.Gameboard(wordlist)\n",
    "gameboard = TWIML_codenames.Gameboard(wordlist)\n",
    "# then create the game:\n",
    "my_game = TWIML_codenames.Game(gameboard = gameboard, team1 = team1, team2 = team2)\n",
    "print(my_game.gameboard.boardwords)\n",
    "print(my_game.gameboard.boardkey)"
   ]
  },
  {
   "cell_type": "code",
   "execution_count": 8,
   "metadata": {},
   "outputs": [],
   "source": [
    "import my_model as model"
   ]
  },
  {
   "cell_type": "code",
   "execution_count": 9,
   "metadata": {
    "tags": []
   },
   "outputs": [
    {
     "output_type": "stream",
     "name": "stdout",
     "text": [
      "Clue generated. Duration = 0:00:10.370123. Total elapsed time = 0:00:10.370780\n",
      "My bot says: \"already for 6!\"\n",
      "Guesses generated. Duration = 0:00:00.000095. Total elapsed time = 0:00:10.371254\n",
      "guesses = ['sick', 'team', 'cost', 'line', 'brand', 'clean']\n",
      "Clue generated. Duration = 0:00:08.238169. Total elapsed time = 0:00:18.610071\n",
      "My bot says: \"flashlights for 3!\"\n",
      "Guesses generated. Duration = 0:00:00.000092. Total elapsed time = 0:00:18.610515\n",
      "guesses = ['torch', 'toothbrush', 'shovel']\n",
      "Clue generated. Duration = 0:00:07.011970. Total elapsed time = 0:00:25.623141\n",
      "My bot says: \"death for 2!\"\n",
      "Guesses generated. Duration = 0:00:00.000048. Total elapsed time = 0:00:25.623479\n",
      "guesses = ['crash', 'cemetery']\n",
      "Clue generated. Duration = 0:00:06.644709. Total elapsed time = 0:00:32.268694\n",
      "My bot says: \"mean for 3!\"\n",
      "Guesses generated. Duration = 0:00:00.000054. Total elapsed time = 0:00:32.269021\n",
      "guesses = ['minute', 'body', 'English']\n",
      "Clue generated. Duration = 0:00:05.108601. Total elapsed time = 0:00:37.378117\n",
      "My bot says: \"pecan for 1!\"\n",
      "Guesses generated. Duration = 0:00:00.000038. Total elapsed time = 0:00:37.378704\n",
      "guesses = ['elm']\n"
     ]
    }
   ],
   "source": [
    "start_time=datetime.now()\n",
    "while my_game.game_completed == False:\n",
    "    # here we ignore that team 1 and team 2 will have different models and assume that regardless \n",
    "    # of which team's turn it is, we use the same model for the spymaster and the operative\n",
    "    \n",
    "    if my_game.waiting_on == 'spymaster':\n",
    "        clue_start_time=datetime.now()\n",
    "        clue_word, clue_count = model.generate_clue(game_id=1,\n",
    "                                                    team_num=my_game.curr_team, \n",
    "                                                    gameboard=my_game.gameboard)\n",
    "        print(f'Clue generated. Duration = {datetime.now()-clue_start_time}. Total elapsed time = {datetime.now()-start_time}')\n",
    "        print(f'My bot says: \"{clue_word} for {clue_count}!\"')\n",
    "        my_game.clue_given(clue_word, clue_count)\n",
    "    else:\n",
    "        guess_start_time=datetime.now()\n",
    "        guesses = model.generate_guesses(game_id = 1,\n",
    "                                         team_num = my_game.curr_team, \n",
    "                                         clue_word = my_game.curr_clue_word, \n",
    "                                         clue_count = my_game.curr_clue_count, \n",
    "                                         unguessed_words = my_game.gameboard.unguessed_words(),\n",
    "                                         boardwords = my_game.gameboard.boardwords, \n",
    "                                         boardmarkers = my_game.gameboard.boardmarkers)\n",
    "        print(f'Guesses generated. Duration = {datetime.now()-guess_start_time}. Total elapsed time = {datetime.now()-start_time}')\n",
    "        print(f'guesses = {guesses}')\n",
    "        my_game.guesses_given(guesses)"
   ]
  },
  {
   "cell_type": "code",
   "execution_count": 10,
   "metadata": {},
   "outputs": [
    {
     "output_type": "execute_result",
     "data": {
      "text/plain": [
       "{'in_progress': False,\n",
       " 'events': [{'event': 'clue_given',\n",
       "   'timestamp': datetime.datetime(2021, 1, 18, 16, 30, 42, 875133),\n",
       "   'team_num': 1,\n",
       "   'clue_word': 'already',\n",
       "   'clue_count': 6,\n",
       "   'legal_clue': 'Yes'},\n",
       "  {'event': 'guess made',\n",
       "   'timestamp': datetime.datetime(2021, 1, 18, 16, 30, 42, 875294),\n",
       "   'team_num': 1,\n",
       "   'word_guessed': 'sick',\n",
       "   'result': 1},\n",
       "  {'event': 'guess made',\n",
       "   'timestamp': datetime.datetime(2021, 1, 18, 16, 30, 42, 875360),\n",
       "   'team_num': 1,\n",
       "   'word_guessed': 'team',\n",
       "   'result': 1},\n",
       "  {'event': 'guess made',\n",
       "   'timestamp': datetime.datetime(2021, 1, 18, 16, 30, 42, 875416),\n",
       "   'team_num': 1,\n",
       "   'word_guessed': 'cost',\n",
       "   'result': 1},\n",
       "  {'event': 'guess made',\n",
       "   'timestamp': datetime.datetime(2021, 1, 18, 16, 30, 42, 875752),\n",
       "   'team_num': 1,\n",
       "   'word_guessed': 'line',\n",
       "   'result': 1},\n",
       "  {'event': 'guess made',\n",
       "   'timestamp': datetime.datetime(2021, 1, 18, 16, 30, 42, 875795),\n",
       "   'team_num': 1,\n",
       "   'word_guessed': 'brand',\n",
       "   'result': 1},\n",
       "  {'event': 'guess made',\n",
       "   'timestamp': datetime.datetime(2021, 1, 18, 16, 30, 42, 875838),\n",
       "   'team_num': 1,\n",
       "   'word_guessed': 'clean',\n",
       "   'result': 1},\n",
       "  {'event': 'end guessing',\n",
       "   'timestamp': datetime.datetime(2021, 1, 18, 16, 30, 42, 875866),\n",
       "   'reason': 'no more guesses provided'},\n",
       "  {'event': 'clue_given',\n",
       "   'timestamp': datetime.datetime(2021, 1, 18, 16, 30, 51, 114395),\n",
       "   'team_num': 2,\n",
       "   'clue_word': 'flashlights',\n",
       "   'clue_count': 3,\n",
       "   'legal_clue': 'Yes'},\n",
       "  {'event': 'guess made',\n",
       "   'timestamp': datetime.datetime(2021, 1, 18, 16, 30, 51, 114558),\n",
       "   'team_num': 2,\n",
       "   'word_guessed': 'torch',\n",
       "   'result': 2},\n",
       "  {'event': 'guess made',\n",
       "   'timestamp': datetime.datetime(2021, 1, 18, 16, 30, 51, 114626),\n",
       "   'team_num': 2,\n",
       "   'word_guessed': 'toothbrush',\n",
       "   'result': 2},\n",
       "  {'event': 'guess made',\n",
       "   'timestamp': datetime.datetime(2021, 1, 18, 16, 30, 51, 115101),\n",
       "   'team_num': 2,\n",
       "   'word_guessed': 'shovel',\n",
       "   'result': 2},\n",
       "  {'event': 'end guessing',\n",
       "   'timestamp': datetime.datetime(2021, 1, 18, 16, 30, 51, 115134),\n",
       "   'reason': 'no more guesses provided'},\n",
       "  {'event': 'clue_given',\n",
       "   'timestamp': datetime.datetime(2021, 1, 18, 16, 30, 58, 127405),\n",
       "   'team_num': 1,\n",
       "   'clue_word': 'death',\n",
       "   'clue_count': 2,\n",
       "   'legal_clue': 'Yes'},\n",
       "  {'event': 'guess made',\n",
       "   'timestamp': datetime.datetime(2021, 1, 18, 16, 30, 58, 127528),\n",
       "   'team_num': 1,\n",
       "   'word_guessed': 'crash',\n",
       "   'result': 1},\n",
       "  {'event': 'guess made',\n",
       "   'timestamp': datetime.datetime(2021, 1, 18, 16, 30, 58, 127918),\n",
       "   'team_num': 1,\n",
       "   'word_guessed': 'cemetery',\n",
       "   'result': 1},\n",
       "  {'event': 'end guessing',\n",
       "   'timestamp': datetime.datetime(2021, 1, 18, 16, 30, 58, 127949),\n",
       "   'reason': 'no more guesses provided'},\n",
       "  {'event': 'clue_given',\n",
       "   'timestamp': datetime.datetime(2021, 1, 18, 16, 31, 4, 772941),\n",
       "   'team_num': 2,\n",
       "   'clue_word': 'mean',\n",
       "   'clue_count': 3,\n",
       "   'legal_clue': 'Yes'},\n",
       "  {'event': 'guess made',\n",
       "   'timestamp': datetime.datetime(2021, 1, 18, 16, 31, 4, 773069),\n",
       "   'team_num': 2,\n",
       "   'word_guessed': 'minute',\n",
       "   'result': 2},\n",
       "  {'event': 'guess made',\n",
       "   'timestamp': datetime.datetime(2021, 1, 18, 16, 31, 4, 773406),\n",
       "   'team_num': 2,\n",
       "   'word_guessed': 'body',\n",
       "   'result': 2},\n",
       "  {'event': 'guess made',\n",
       "   'timestamp': datetime.datetime(2021, 1, 18, 16, 31, 4, 773451),\n",
       "   'team_num': 2,\n",
       "   'word_guessed': 'English',\n",
       "   'result': 2},\n",
       "  {'event': 'end guessing',\n",
       "   'timestamp': datetime.datetime(2021, 1, 18, 16, 31, 4, 773480),\n",
       "   'reason': 'no more guesses provided'},\n",
       "  {'event': 'clue_given',\n",
       "   'timestamp': datetime.datetime(2021, 1, 18, 16, 31, 9, 882638),\n",
       "   'team_num': 1,\n",
       "   'clue_word': 'pecan',\n",
       "   'clue_count': 1,\n",
       "   'legal_clue': 'Yes'},\n",
       "  {'event': 'guess made',\n",
       "   'timestamp': datetime.datetime(2021, 1, 18, 16, 31, 9, 882757),\n",
       "   'team_num': 1,\n",
       "   'word_guessed': 'elm',\n",
       "   'result': 1},\n",
       "  {'event': 'game over',\n",
       "   'timestamp': datetime.datetime(2021, 1, 18, 16, 31, 9, 882786),\n",
       "   'reason': 'All team 1 words guessed'}],\n",
       " 'boardwords': [['body', 'kilogram', 'sick', 'team', 'hook'],\n",
       "  ['clean', 'barber', 'cost', 'Washington', 'mirror'],\n",
       "  ['torch', 'crash', 'brand', 'line', 'elm'],\n",
       "  ['cemetery', 'billboard', 'wood', 'English', 'minute'],\n",
       "  ['Venus', 'toothbrush', 'seal', 'whisk', 'shovel']],\n",
       " 'boardkey': [[2, 2, 1, 1, 0],\n",
       "  [1, 0, 1, 0, 0],\n",
       "  [2, 1, 1, 1, 1],\n",
       "  [1, 0, 0, 2, 2],\n",
       "  [2, 2, -1, 0, 2]],\n",
       " 'teams': {'team 1': [1001, 1002], 'team 2': [1003, 1004]},\n",
       " 'winning team': {'num': 1,\n",
       "  'players': [{'player_id': 1001,\n",
       "    'Elo before update': {'Spymaster': 1500.0, 'Operative': 1500.0},\n",
       "    'Elo after update': {'Spymaster': 1500.0, 'Operative': 1500.0}},\n",
       "   {'player_id': 1002,\n",
       "    'Elo before update': {'Spymaster': 1500.0, 'Operative': 1500.0},\n",
       "    'Elo after update': {'Spymaster': 1500.0, 'Operative': 1500.0}}]},\n",
       " 'losing team': {'num': 2,\n",
       "  'players': [{'player_id': 1003,\n",
       "    'Elo before update': {'Spymaster': 1500.0, 'Operative': 1500.0},\n",
       "    'Elo after update': {'Spymaster': 1500.0, 'Operative': 1500.0}},\n",
       "   {'player_id': 1004,\n",
       "    'Elo before update': {'Spymaster': 1500.0, 'Operative': 1500.0},\n",
       "    'Elo after update': {'Spymaster': 1500.0, 'Operative': 1500.0}}]},\n",
       " 'start time': datetime.datetime(2021, 1, 18, 16, 30, 32, 292278),\n",
       " 'end time': datetime.datetime(2021, 1, 18, 16, 31, 9, 882811),\n",
       " 'boardmarkers': [[2.0, nan, 1.0, 1.0, nan],\n",
       "  [1.0, nan, 1.0, nan, nan],\n",
       "  [2.0, 1.0, 1.0, 1.0, 1.0],\n",
       "  [1.0, nan, nan, 2.0, 2.0],\n",
       "  [nan, 2.0, nan, nan, 2.0]]}"
      ]
     },
     "metadata": {},
     "execution_count": 10
    }
   ],
   "source": [
    "my_game.logger.game_log"
   ]
  },
  {
   "source": [
    "# TESTING\n",
    "(Not important past this point)"
   ],
   "cell_type": "markdown",
   "metadata": {}
  },
  {
   "cell_type": "code",
   "execution_count": null,
   "metadata": {},
   "outputs": [],
   "source": [
    "import spacy # after installing, be sure to run 'python -m spacy download en_core_web_lg'\n",
    "import itertools\n",
    "import pickle\n",
    "import os\n",
    "\n",
    "\n",
    "nlp = spacy.load(\"en_core_web_lg\")\n",
    "# old_clue_word_distances = pickle.load(open('clue_word_distances.pkl','rb'))\n",
    "clue_word_distances = pickle.load(open(os.path.join('distances', 'clue_word_distances.pkl'),'rb'))\n",
    "# clue_word_distances_extra = pickle.load(open('extra_test_clue_word_distances.pkl','rb'))\n",
    "# spacy_one_clue_word_distances = pickle.load(open('spacy_one_clue_word_distances.pkl','rb'))\n",
    "# spacy_two_clue_word_distances = pickle.load(open('spacy_two_clue_word_distances.pkl','rb'))\n",
    "# spacy_three_clue_word_distances = pickle.load(open('spacy_three_clue_word_distances.pkl','rb'))\n",
    "\n",
    "def distfn(word1, word2):\n",
    "    tokens = nlp(word1 + \" \" + word2)\n",
    "    return 1 - tokens[0].similarity(tokens[1])"
   ]
  },
  {
   "cell_type": "code",
   "execution_count": null,
   "metadata": {},
   "outputs": [],
   "source": [
    "len(clue_word_distances[\"distances\"][0])"
   ]
  },
  {
   "cell_type": "code",
   "execution_count": null,
   "metadata": {},
   "outputs": [],
   "source": [
    "np.array(clue_word_distances[\"distances\"]).shape"
   ]
  },
  {
   "cell_type": "code",
   "execution_count": null,
   "metadata": {},
   "outputs": [],
   "source": [
    "len(clue_word_distances[\"clue_words\"])"
   ]
  },
  {
   "cell_type": "code",
   "execution_count": null,
   "metadata": {},
   "outputs": [],
   "source": [
    "distfn('shield','sugar')"
   ]
  },
  {
   "cell_type": "code",
   "execution_count": null,
   "metadata": {},
   "outputs": [],
   "source": [
    "pickle.load(open(os.path.join('prev_games','101736.pkl'),'rb'))"
   ]
  }
 ]
}